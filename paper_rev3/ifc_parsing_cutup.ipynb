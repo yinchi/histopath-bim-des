{
 "cells": [
  {
   "cell_type": "markdown",
   "metadata": {},
   "source": [
    "# Runner times -- loss of one cutup room"
   ]
  },
  {
   "cell_type": "code",
   "execution_count": 1,
   "metadata": {},
   "outputs": [],
   "source": [
    "import re\n",
    "\n",
    "import ifcopenshell as ifc\n",
    "import pandas as pd"
   ]
  },
  {
   "cell_type": "code",
   "execution_count": 2,
   "metadata": {},
   "outputs": [],
   "source": [
    "import matplotlib.pyplot as plt\n",
    "from histopath_bim_des.bim import BimModel\n",
    "\n",
    "bim_model = BimModel.from_ifc('../assets/private/histo_v2.ifc')\n",
    "bim_model.elevations = {k: round(v,5) for k,v in bim_model.elevations.items()}"
   ]
  },
  {
   "cell_type": "code",
   "execution_count": 3,
   "metadata": {},
   "outputs": [
    {
     "name": "stdout",
     "output_type": "stream",
     "text": [
      "[[0.25], [0.25], [0.25], [0.25]]\n"
     ]
    }
   ],
   "source": [
    "import networkx as ntx\n",
    "from histopath_bim_des.config.runners import RunnerConfig\n",
    "import openpyxl\n",
    "from histopath_bim_des.bim import logical_graph\n",
    "\n",
    "runner_cfg_path = '../assets/histo.xlsx'\n",
    "cfg = RunnerConfig.from_excel(openpyxl.load_workbook(runner_cfg_path, data_only=True))\n",
    "cfg2 = cfg.copy(deep=True)\n",
    "\n",
    "cfg2.cutup_dist = [1./3, 1./3, 1./3, 0]"
   ]
  },
  {
   "cell_type": "code",
   "execution_count": 4,
   "metadata": {},
   "outputs": [
    {
     "data": {
      "text/plain": [
       "{'door_map': {'reception': 'd1',\n",
       "  'cutup': ['d2', 'd3', 'd4', 'd5'],\n",
       "  'processing': 'd6',\n",
       "  'microtomy': 'd8',\n",
       "  'staining': 'd9',\n",
       "  'labelling': 'd8',\n",
       "  'scanning': 'd16',\n",
       "  'qc': 'd8'},\n",
       " 'runner_speed': 1.2,\n",
       " 'cutup_dist': [0.3333333333333333, 0.3333333333333333, 0.3333333333333333, 0],\n",
       " 'extra_paths': [{'path': ('d10', 'd12'), 'duration_seconds': 120.0},\n",
       "  {'path': ('d11', 'd13'), 'duration_seconds': 45.0}],\n",
       " 'extra_durations': {'loading_time': 15.0, 'unloading_time': 15.0}}"
      ]
     },
     "execution_count": 4,
     "metadata": {},
     "output_type": "execute_result"
    }
   ],
   "source": [
    "cfg2.model_dump()"
   ]
  },
  {
   "cell_type": "markdown",
   "metadata": {},
   "source": [
    "## Runner times\n",
    "\n",
    "### Base config"
   ]
  },
  {
   "cell_type": "code",
   "execution_count": 5,
   "metadata": {},
   "outputs": [
    {
     "data": {
      "text/html": [
       "<div>\n",
       "<style scoped>\n",
       "    .dataframe tbody tr th:only-of-type {\n",
       "        vertical-align: middle;\n",
       "    }\n",
       "\n",
       "    .dataframe tbody tr th {\n",
       "        vertical-align: top;\n",
       "    }\n",
       "\n",
       "    .dataframe thead th {\n",
       "        text-align: right;\n",
       "    }\n",
       "</style>\n",
       "<table border=\"1\" class=\"dataframe\">\n",
       "  <thead>\n",
       "    <tr style=\"text-align: right;\">\n",
       "      <th></th>\n",
       "      <th>runner_journey</th>\n",
       "      <th>runner_time</th>\n",
       "    </tr>\n",
       "  </thead>\n",
       "  <tbody>\n",
       "    <tr>\n",
       "      <th>0</th>\n",
       "      <td>(reception, cutup)</td>\n",
       "      <td>8.452306</td>\n",
       "    </tr>\n",
       "    <tr>\n",
       "      <th>1</th>\n",
       "      <td>(cutup, processing)</td>\n",
       "      <td>6.968697</td>\n",
       "    </tr>\n",
       "    <tr>\n",
       "      <th>2</th>\n",
       "      <td>(processing, microtomy)</td>\n",
       "      <td>28.089256</td>\n",
       "    </tr>\n",
       "    <tr>\n",
       "      <th>3</th>\n",
       "      <td>(microtomy, staining)</td>\n",
       "      <td>3.678511</td>\n",
       "    </tr>\n",
       "    <tr>\n",
       "      <th>4</th>\n",
       "      <td>(staining, labelling)</td>\n",
       "      <td>3.678511</td>\n",
       "    </tr>\n",
       "    <tr>\n",
       "      <th>5</th>\n",
       "      <td>(labelling, scanning)</td>\n",
       "      <td>86.898479</td>\n",
       "    </tr>\n",
       "    <tr>\n",
       "      <th>6</th>\n",
       "      <td>(scanning, qc)</td>\n",
       "      <td>86.898479</td>\n",
       "    </tr>\n",
       "  </tbody>\n",
       "</table>\n",
       "</div>"
      ],
      "text/plain": [
       "            runner_journey  runner_time\n",
       "0       (reception, cutup)     8.452306\n",
       "1      (cutup, processing)     6.968697\n",
       "2  (processing, microtomy)    28.089256\n",
       "3    (microtomy, staining)     3.678511\n",
       "4    (staining, labelling)     3.678511\n",
       "5    (labelling, scanning)    86.898479\n",
       "6           (scanning, qc)    86.898479"
      ]
     },
     "execution_count": 5,
     "metadata": {},
     "output_type": "execute_result"
    }
   ],
   "source": [
    "from histopath_bim_des.bim import runner_times\n",
    "\n",
    "rt = runner_times(bim_model, cfg)\n",
    "df = pd.DataFrame(\n",
    "    [[str(k).replace(\"'\",''), v] for k,v in rt.items()],\n",
    "    columns=['runner_journey', 'runner_time']\n",
    ")\n",
    "df"
   ]
  },
  {
   "cell_type": "code",
   "execution_count": 6,
   "metadata": {},
   "outputs": [
    {
     "data": {
      "text/html": [
       "<div>\n",
       "<style scoped>\n",
       "    .dataframe tbody tr th:only-of-type {\n",
       "        vertical-align: middle;\n",
       "    }\n",
       "\n",
       "    .dataframe tbody tr th {\n",
       "        vertical-align: top;\n",
       "    }\n",
       "\n",
       "    .dataframe thead th {\n",
       "        text-align: right;\n",
       "    }\n",
       "</style>\n",
       "<table border=\"1\" class=\"dataframe\">\n",
       "  <thead>\n",
       "    <tr style=\"text-align: right;\">\n",
       "      <th></th>\n",
       "      <th>runner_journey</th>\n",
       "      <th>runner_time</th>\n",
       "    </tr>\n",
       "  </thead>\n",
       "  <tbody>\n",
       "    <tr>\n",
       "      <th>0</th>\n",
       "      <td>(reception, cutup)</td>\n",
       "      <td>6.571348</td>\n",
       "    </tr>\n",
       "    <tr>\n",
       "      <th>1</th>\n",
       "      <td>(cutup, processing)</td>\n",
       "      <td>8.678511</td>\n",
       "    </tr>\n",
       "    <tr>\n",
       "      <th>2</th>\n",
       "      <td>(processing, microtomy)</td>\n",
       "      <td>28.089256</td>\n",
       "    </tr>\n",
       "    <tr>\n",
       "      <th>3</th>\n",
       "      <td>(microtomy, staining)</td>\n",
       "      <td>3.678511</td>\n",
       "    </tr>\n",
       "    <tr>\n",
       "      <th>4</th>\n",
       "      <td>(staining, labelling)</td>\n",
       "      <td>3.678511</td>\n",
       "    </tr>\n",
       "    <tr>\n",
       "      <th>5</th>\n",
       "      <td>(labelling, scanning)</td>\n",
       "      <td>86.898479</td>\n",
       "    </tr>\n",
       "    <tr>\n",
       "      <th>6</th>\n",
       "      <td>(scanning, qc)</td>\n",
       "      <td>86.898479</td>\n",
       "    </tr>\n",
       "  </tbody>\n",
       "</table>\n",
       "</div>"
      ],
      "text/plain": [
       "            runner_journey  runner_time\n",
       "0       (reception, cutup)     6.571348\n",
       "1      (cutup, processing)     8.678511\n",
       "2  (processing, microtomy)    28.089256\n",
       "3    (microtomy, staining)     3.678511\n",
       "4    (staining, labelling)     3.678511\n",
       "5    (labelling, scanning)    86.898479\n",
       "6           (scanning, qc)    86.898479"
      ]
     },
     "execution_count": 6,
     "metadata": {},
     "output_type": "execute_result"
    }
   ],
   "source": [
    "rt2 = runner_times(bim_model, cfg2)\n",
    "df2 = pd.DataFrame(\n",
    "    [[str(k).replace(\"'\",''), v] for k,v in rt2.items()],\n",
    "    columns=['runner_journey', 'runner_time']\n",
    ")\n",
    "df2"
   ]
  },
  {
   "cell_type": "code",
   "execution_count": null,
   "metadata": {},
   "outputs": [],
   "source": []
  }
 ],
 "metadata": {
  "kernelspec": {
   "display_name": "histopath-bim-des-py3.12",
   "language": "python",
   "name": "python3"
  },
  "language_info": {
   "codemirror_mode": {
    "name": "ipython",
    "version": 3
   },
   "file_extension": ".py",
   "mimetype": "text/x-python",
   "name": "python",
   "nbconvert_exporter": "python",
   "pygments_lexer": "ipython3",
   "version": "3.12.3"
  }
 },
 "nbformat": 4,
 "nbformat_minor": 2
}
