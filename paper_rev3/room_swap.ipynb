{
 "cells": [
  {
   "cell_type": "markdown",
   "metadata": {},
   "source": [
    "# Scenario analysis: room swap"
   ]
  },
  {
   "cell_type": "code",
   "execution_count": 1,
   "metadata": {},
   "outputs": [],
   "source": [
    "import openpyxl as oxl\n",
    "from histopath_bim_des.config import Config\n",
    "from histopath_bim_des.model import Model\n",
    "\n",
    "path = 'config_base.xlsx'\n",
    "wbook = oxl.load_workbook(path, data_only=True)\n",
    "config = Config.from_workbook(wbook, sim_hours=10*168, num_reps=30, runner_speed=1.2)"
   ]
  },
  {
   "cell_type": "code",
   "execution_count": 2,
   "metadata": {},
   "outputs": [
    {
     "data": {
      "text/plain": [
       "86.89847882754336"
      ]
     },
     "execution_count": 2,
     "metadata": {},
     "output_type": "execute_result"
    }
   ],
   "source": [
    "config.runner_times.labelling_scanning"
   ]
  },
  {
   "cell_type": "markdown",
   "metadata": {},
   "source": [
    "From `ifc_parsing.ipynb`, we know the runner times for if we move Digital Scanning to `d17` or `d18`:"
   ]
  },
  {
   "cell_type": "code",
   "execution_count": 3,
   "metadata": {},
   "outputs": [],
   "source": [
    "config2 = config.model_copy(deep=True)\n",
    "config3 = config.model_copy(deep=True)\n",
    "\n",
    "config2.runner_times.labelling_scanning = 1.839256\n",
    "config2.runner_times.scanning_qc = 1.839256\n",
    "\n",
    "config3.runner_times.labelling_scanning = 23.261845\n",
    "config3.runner_times.scanning_qc = 23.261845"
   ]
  },
  {
   "cell_type": "code",
   "execution_count": 4,
   "metadata": {},
   "outputs": [
    {
     "data": {
      "text/html": [
       "<div>\n",
       "<style scoped>\n",
       "    .dataframe tbody tr th:only-of-type {\n",
       "        vertical-align: middle;\n",
       "    }\n",
       "\n",
       "    .dataframe tbody tr th {\n",
       "        vertical-align: top;\n",
       "    }\n",
       "\n",
       "    .dataframe thead th {\n",
       "        text-align: right;\n",
       "    }\n",
       "</style>\n",
       "<table border=\"1\" class=\"dataframe\">\n",
       "  <thead>\n",
       "    <tr style=\"text-align: right;\">\n",
       "      <th></th>\n",
       "      <th>d16</th>\n",
       "      <th>d17</th>\n",
       "      <th>d18</th>\n",
       "    </tr>\n",
       "  </thead>\n",
       "  <tbody>\n",
       "    <tr>\n",
       "      <th>reception_cutup</th>\n",
       "      <td>8.452306</td>\n",
       "      <td>8.452306</td>\n",
       "      <td>8.452306</td>\n",
       "    </tr>\n",
       "    <tr>\n",
       "      <th>cutup_processing</th>\n",
       "      <td>6.968697</td>\n",
       "      <td>6.968697</td>\n",
       "      <td>6.968697</td>\n",
       "    </tr>\n",
       "    <tr>\n",
       "      <th>processing_microtomy</th>\n",
       "      <td>28.089256</td>\n",
       "      <td>28.089256</td>\n",
       "      <td>28.089256</td>\n",
       "    </tr>\n",
       "    <tr>\n",
       "      <th>microtomy_staining</th>\n",
       "      <td>3.678511</td>\n",
       "      <td>3.678511</td>\n",
       "      <td>3.678511</td>\n",
       "    </tr>\n",
       "    <tr>\n",
       "      <th>staining_labelling</th>\n",
       "      <td>3.678511</td>\n",
       "      <td>3.678511</td>\n",
       "      <td>3.678511</td>\n",
       "    </tr>\n",
       "    <tr>\n",
       "      <th>labelling_scanning</th>\n",
       "      <td>86.898479</td>\n",
       "      <td>1.839256</td>\n",
       "      <td>23.261845</td>\n",
       "    </tr>\n",
       "    <tr>\n",
       "      <th>scanning_qc</th>\n",
       "      <td>86.898479</td>\n",
       "      <td>1.839256</td>\n",
       "      <td>23.261845</td>\n",
       "    </tr>\n",
       "    <tr>\n",
       "      <th>extra_loading</th>\n",
       "      <td>15.000000</td>\n",
       "      <td>15.000000</td>\n",
       "      <td>15.000000</td>\n",
       "    </tr>\n",
       "    <tr>\n",
       "      <th>extra_unloading</th>\n",
       "      <td>15.000000</td>\n",
       "      <td>15.000000</td>\n",
       "      <td>15.000000</td>\n",
       "    </tr>\n",
       "  </tbody>\n",
       "</table>\n",
       "</div>"
      ],
      "text/plain": [
       "                            d16        d17        d18\n",
       "reception_cutup        8.452306   8.452306   8.452306\n",
       "cutup_processing       6.968697   6.968697   6.968697\n",
       "processing_microtomy  28.089256  28.089256  28.089256\n",
       "microtomy_staining     3.678511   3.678511   3.678511\n",
       "staining_labelling     3.678511   3.678511   3.678511\n",
       "labelling_scanning    86.898479   1.839256  23.261845\n",
       "scanning_qc           86.898479   1.839256  23.261845\n",
       "extra_loading         15.000000  15.000000  15.000000\n",
       "extra_unloading       15.000000  15.000000  15.000000"
      ]
     },
     "execution_count": 4,
     "metadata": {},
     "output_type": "execute_result"
    }
   ],
   "source": [
    "import pandas as pd\n",
    "\n",
    "pd.DataFrame({\n",
    "    'd16': config.runner_times.model_dump(),\n",
    "    'd17': config2.runner_times.model_dump(),\n",
    "    'd18': config3.runner_times.model_dump()\n",
    "})"
   ]
  },
  {
   "cell_type": "code",
   "execution_count": 5,
   "metadata": {},
   "outputs": [],
   "source": [
    "lab_tats = []\n",
    "specimen_datas = []\n",
    "\n",
    "for _ in range(config.num_reps):\n",
    "    model_base = Model(config)\n",
    "    model_base.run()\n",
    "    lab_tat_new = [v['qc_end']-v['reception_start']\n",
    "                   for v in model_base.specimen_data.values() if 'qc_end' in v]\n",
    "    specimen_datas.append(model_base.specimen_data)\n",
    "    lab_tats.append(lab_tat_new)\n",
    "\n",
    "lab_tats2 = []\n",
    "specimen_datas2 = []\n",
    "\n",
    "for _ in range(config2.num_reps):\n",
    "    model2 = Model(config2)\n",
    "    model2.run()\n",
    "    lab_tat_new = [v['qc_end']-v['reception_start']\n",
    "                   for v in model2.specimen_data.values() if 'qc_end' in v]\n",
    "    specimen_datas2.append(model2.specimen_data)\n",
    "    lab_tats2.append(lab_tat_new)\n",
    "\n",
    "lab_tats3 = []\n",
    "specimen_datas3 = []\n",
    "\n",
    "for _ in range(config3.num_reps):\n",
    "    model3 = Model(config3)\n",
    "    model3.run()\n",
    "    lab_tat_new = [v['qc_end']-v['reception_start']\n",
    "                   for v in model3.specimen_data.values() if 'qc_end' in v]\n",
    "    specimen_datas3.append(model3.specimen_data)\n",
    "    lab_tats3.append(lab_tat_new)"
   ]
  },
  {
   "cell_type": "code",
   "execution_count": 21,
   "metadata": {},
   "outputs": [],
   "source": [
    "import numpy as np\n",
    "from matplotlib import pyplot as plt\n",
    "from scipy import stats"
   ]
  },
  {
   "cell_type": "code",
   "execution_count": null,
   "metadata": {},
   "outputs": [
    {
     "data": {
      "text/plain": [
       "array([0.00000000e+00, 0.00000000e+00, 3.02070775e-04, 5.93012626e-03,\n",
       "       3.99501848e-02, 6.89410300e-02, 1.04076631e-01, 2.68098411e-01,\n",
       "       4.96034659e-01, 6.46084341e-01, 7.30574067e-01, 7.99369361e-01,\n",
       "       8.53561918e-01, 8.95340426e-01, 9.35963646e-01, 9.62882391e-01,\n",
       "       9.75413029e-01, 9.83672280e-01, 9.89393076e-01, 9.93889691e-01,\n",
       "       9.97803363e-01, 9.99435605e-01, 9.99835716e-01, 9.99928457e-01,\n",
       "       9.99962904e-01, 9.99984102e-01, 9.99992051e-01, 9.99997350e-01])"
      ]
     },
     "execution_count": 7,
     "metadata": {},
     "output_type": "execute_result"
    }
   ],
   "source": [
    "lab_tat = np.concatenate(lab_tats)\n",
    "lab_tat = lab_tat/24.\n",
    "np.array([np.mean(lab_tat < n) for n in range(28)])"
   ]
  },
  {
   "cell_type": "code",
   "execution_count": 10,
   "metadata": {},
   "outputs": [],
   "source": [
    "lab_tat2 = np.concatenate(lab_tats2)\n",
    "lab_tat2 = lab_tat2/24.\n",
    "\n",
    "lab_tat3 = np.concatenate(lab_tats3)\n",
    "lab_tat3 = lab_tat3/24."
   ]
  },
  {
   "cell_type": "code",
   "execution_count": 22,
   "metadata": {},
   "outputs": [],
   "source": [
    "mat1 = np.array([[np.mean(np.array(lab_tats[i])/24. < n) for n in [7,10,14,21]] for i in range(30)])\n",
    "mat2 = np.array([[np.mean(np.array(lab_tats2[i])/24. < n) for n in [7,10,14,21]] for i in range(30)])\n",
    "mat3 = np.array([[np.mean(np.array(lab_tats3[i])/24. < n) for n in [7,10,14,21]] for i in range(30)])\n",
    "\n",
    "means1 = np.mean(mat1, axis=0)\n",
    "means2 = np.mean(mat2, axis=0)\n",
    "means3 = np.mean(mat3, axis=0)\n",
    "\n",
    "ci1 = [\n",
    "    stats.t.interval(0.95, loc=np.mean(x:=mat1[:,col]), scale=stats.sem(x), df=len(x))\n",
    "    for col in range(4)\n",
    "]\n",
    "yerr1 = np.array([v[1] for v in ci1])-means1\n",
    "\n",
    "ci2 = [\n",
    "    stats.t.interval(0.95, loc=np.mean(x:=mat2[:,col]), scale=stats.sem(x), df=len(x))\n",
    "    for col in range(4)\n",
    "]\n",
    "yerr2 = np.array([v[1] for v in ci2])-means2\n",
    "\n",
    "ci3 = [\n",
    "    stats.t.interval(0.95, loc=np.mean(x:=mat3[:,col]), scale=stats.sem(x), df=len(x))\n",
    "    for col in range(4)\n",
    "]\n",
    "yerr3 = np.array([v[1] for v in ci3])-means3"
   ]
  },
  {
   "cell_type": "code",
   "execution_count": 23,
   "metadata": {},
   "outputs": [
    {
     "data": {
      "text/plain": [
       "<Axes: xlabel='Elapsed time [days]', ylabel='Proportion of specimens completed'>"
      ]
     },
     "execution_count": 23,
     "metadata": {},
     "output_type": "execute_result"
    },
    {
     "data": {
      "image/png": "[encoded data removed]",
      "text/plain": [
       "<Figure size 500x1000 with 2 Axes>"
      ]
     },
     "metadata": {},
     "output_type": "display_data"
    }
   ],
   "source": [
    "fig = plt.figure(figsize=(5,10))\n",
    "ax1, ax2 = fig.subplots(2,1)\n",
    "\n",
    "ax1.ecdf(lab_tat)\n",
    "ax1.ecdf(lab_tat2)\n",
    "ax1.ecdf(lab_tat3)\n",
    "ax1.legend(labels=['d16', 'd17', 'd18'])\n",
    "ax1.set_xlabel('Elapsed time [days]')\n",
    "ax1.set_title('Lab TAT, cumulative distribution')\n",
    "ax1.set_ylabel('Proportion of specimens completed')\n",
    "ax1.set_xlim(0,28)\n",
    "\n",
    "y_df = pd.DataFrame(\n",
    "    np.array([means1, means2, means3]).T,\n",
    "    index=[7,10,14,21],\n",
    "    columns=['d16', 'd17', 'd18']\n",
    ")\n",
    "yerr_df = pd.DataFrame(\n",
    "    np.array([yerr1, yerr2, yerr3]).T,\n",
    "    index=[7,10,14,21],\n",
    "    columns=['d16', 'd17', 'd18']\n",
    ")\n",
    "y_df.plot(ax=ax2, kind='bar',yerr=yerr_df, capsize=5,\n",
    "          xlabel='Elapsed time [days]', ylabel='Proportion of specimens completed')"
   ]
  },
  {
   "cell_type": "code",
   "execution_count": null,
   "metadata": {},
   "outputs": [],
   "source": []
  }
 ],
 "metadata": {
  "kernelspec": {
   "display_name": ".venv",
   "language": "python",
   "name": "python3"
  },
  "language_info": {
   "codemirror_mode": {
    "name": "ipython",
    "version": 3
   },
   "file_extension": ".py",
   "mimetype": "text/x-python",
   "name": "python",
   "nbconvert_exporter": "python",
   "pygments_lexer": "ipython3",
   "version": "3.12.3"
  }
 },
 "nbformat": 4,
 "nbformat_minor": 2
}
