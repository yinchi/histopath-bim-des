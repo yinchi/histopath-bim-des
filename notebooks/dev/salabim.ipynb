{
 "cells": [
  {
   "cell_type": "code",
   "execution_count": 1,
   "metadata": {},
   "outputs": [
    {
     "name": "stdout",
     "output_type": "stream",
     "text": [
      "line#        time current component    action                               information\n",
      "------ ---------- -------------------- -----------------------------------  ------------------------------------------------\n",
      "                                       line numbers refers to               345516671.py\n",
      "   11                                  default environment initialize       \n",
      "   11                                  main create                          \n",
      "   11       0.000 main                 current                              \n",
      "   12                                  car.0 create                         \n",
      "   12                                  car.0 activate                       scheduled for 0.000 @    6+ process=process\n",
      "   13                                  main run +5.000                      scheduled for 5.000 @   13+\n",
      "    6+      0.000 car.0                current                              \n",
      "    8                                  car.0 hold +1.000                    scheduled for 1.000 @    8+\n",
      "    8+      1.000 car.0                current                              \n",
      "    8                                  car.0 hold +1.000                    scheduled for 2.000 @    8+\n",
      "    8+      2.000 car.0                current                              \n",
      "    8                                  car.0 hold +1.000                    scheduled for 3.000 @    8+\n",
      "    8+      3.000 car.0                current                              \n",
      "    8                                  car.0 hold +1.000                    scheduled for 4.000 @    8+\n",
      "    8+      4.000 car.0                current                              \n",
      "    8                                  car.0 hold +1.000                    scheduled for 5.000 @    8+\n",
      "    8+      5.000 car.0                current                              \n",
      "    8                                  car.0 hold +1.000                    scheduled for 6.000 @    8+\n",
      "   13+      5.000 main                 current                              \n"
     ]
    }
   ],
   "source": [
    "# Car.py\n",
    "import salabim as sim\n",
    "\n",
    "\n",
    "class Car(sim.Component):\n",
    "    def process(self):\n",
    "        while True:\n",
    "            self.hold(1)\n",
    "\n",
    "\n",
    "env = sim.Environment(trace=True)\n",
    "Car()\n",
    "env.run(till=5)"
   ]
  },
  {
   "cell_type": "code",
   "execution_count": null,
   "metadata": {},
   "outputs": [],
   "source": []
  }
 ],
 "metadata": {
  "kernelspec": {
   "display_name": ".venv",
   "language": "python",
   "name": "python3"
  },
  "language_info": {
   "codemirror_mode": {
    "name": "ipython",
    "version": 3
   },
   "file_extension": ".py",
   "mimetype": "text/x-python",
   "name": "python",
   "nbconvert_exporter": "python",
   "pygments_lexer": "ipython3",
   "version": "3.12.3"
  }
 },
 "nbformat": 4,
 "nbformat_minor": 2
}
