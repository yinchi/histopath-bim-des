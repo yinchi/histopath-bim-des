{
 "cells": [
  {
   "cell_type": "code",
   "execution_count": 1,
   "metadata": {},
   "outputs": [],
   "source": [
    "import openpyxl as oxl\n",
    "\n",
    "from histopath_bim_des.config import Config\n",
    "from histopath_bim_des.model import Model\n",
    "from histopath_bim_des.process.core import Process"
   ]
  },
  {
   "cell_type": "code",
   "execution_count": 2,
   "metadata": {},
   "outputs": [],
   "source": [
    "path = '../../assets/config_base.xlsx'\n",
    "wbook = oxl.load_workbook(path, data_only=True)\n",
    "cfg = Config.from_workbook(wbook, sim_hours=10*168, num_reps=10)"
   ]
  },
  {
   "cell_type": "code",
   "execution_count": 3,
   "metadata": {},
   "outputs": [
    {
     "data": {
      "text/plain": [
       "Model (default environment)"
      ]
     },
     "execution_count": 3,
     "metadata": {},
     "output_type": "execute_result"
    }
   ],
   "source": [
    "model = Model(cfg)\n",
    "model"
   ]
  },
  {
   "cell_type": "markdown",
   "metadata": {},
   "source": [
    "## Model processes"
   ]
  },
  {
   "cell_type": "code",
   "execution_count": 4,
   "metadata": {},
   "outputs": [
    {
     "data": {
      "text/plain": [
       "{'arrive_reception': Process (arrive_reception),\n",
       " 'booking_in': Process (booking_in),\n",
       " 'batcher.reception_to_cutup': BatchingProcess (batcher.reception_to_cutup),\n",
       " 'reception_to_cutup': DeliveryProcess (deliveryprocess.0),\n",
       " 'cutup_start': Process (cutup_start),\n",
       " 'cutup_bms': Process (cutup_bms),\n",
       " 'cutup_pool': Process (cutup_pool),\n",
       " 'cutup_large': Process (cutup_large),\n",
       " 'batcher.cutup_bms_to_processing': BatchingProcess (batcher.cutup_bms_to_processing),\n",
       " 'cutup_bms_to_processing': DeliveryProcess (cutup_bms_to_processing),\n",
       " 'batcher.cutup_pool_to_processing': BatchingProcess (batcher.cutup_pool_to_processing),\n",
       " 'cutup_pool_to_processing': DeliveryProcess (cutup_pool_to_processing),\n",
       " 'batcher.cutup_large_to_processing': BatchingProcess (batcher.cutup_large_to_processing),\n",
       " 'cutup_large_to_processing': DeliveryProcess (cutup_large_to_processing),\n",
       " 'processing_start': Process (processing_start),\n",
       " 'decalc_bone_station': Process (decalc_bone_station),\n",
       " 'decalc_oven': Process (decalc_oven),\n",
       " 'processing_assign_queue': Process (processing_assign_queue),\n",
       " 'processing_urgents': Process (processing_urgents),\n",
       " 'processing_smalls': Process (processing_smalls),\n",
       " 'processing_larges': Process (processing_larges),\n",
       " 'processing_megas': Process (processing_megas),\n",
       " 'embed_and_trim': Process (embed_and_trim),\n",
       " 'post_processing': Process (post_processing),\n",
       " 'batcher.decalc_bone_station': BatchingProcess (batcher.decalc_bone_station),\n",
       " 'batcher.processing_urgents': BatchingProcess (batcher.processing_urgents),\n",
       " 'batcher.processing_smalls': BatchingProcess (batcher.processing_smalls),\n",
       " 'batcher.processing_larges': BatchingProcess (batcher.processing_larges),\n",
       " 'batcher.processing_megas': BatchingProcess (batcher.processing_megas),\n",
       " 'collate.processing': CollationProcess (collate.processing),\n",
       " 'batcher.processing_to_microtomy': BatchingProcess (batcher.processing_to_microtomy),\n",
       " 'processing_to_microtomy': DeliveryProcess (processing_to_microtomy),\n",
       " 'microtomy': Process (microtomy),\n",
       " 'batcher.microtomy_to_staining': BatchingProcess (batcher.microtomy_to_staining),\n",
       " 'microtomy_to_staining': DeliveryProcess (microtomy_to_staining),\n",
       " 'staining_start': Process (staining_start),\n",
       " 'staining_regular': Process (staining_regular),\n",
       " 'staining_megas': Process (staining_megas),\n",
       " 'post_staining': Process (post_staining),\n",
       " 'batcher.staining_regular': BatchingProcess (batcher.staining_regular),\n",
       " 'batcher.staining_megas': BatchingProcess (batcher.staining_megas),\n",
       " 'collate.staining.slides': CollationProcess (collate.staining.slides),\n",
       " 'collate.staining.blocks': CollationProcess (collate.staining.blocks),\n",
       " 'batcher.staining_to_labelling': BatchingProcess (batcher.staining_to_labelling),\n",
       " 'staining_to_labelling': DeliveryProcess (staining_to_labelling),\n",
       " 'labelling': Process (labelling),\n",
       " 'batcher.labelling_to_scanning': BatchingProcess (batcher.labelling_to_scanning),\n",
       " 'labelling_to_scanning': DeliveryProcess (labelling_to_scanning),\n",
       " 'scanning_start': Process (scanning_start),\n",
       " 'scanning_regular': Process (scanning_regular),\n",
       " 'scanning_megas': Process (scanning_megas),\n",
       " 'post_scanning': Process (post_scanning),\n",
       " 'batcher.scanning_regular': BatchingProcess (batcher.scanning_regular),\n",
       " 'batcher.scanning_megas': BatchingProcess (batcher.scanning_megas),\n",
       " 'collate.scanning.slides': CollationProcess (collate.scanning.slides),\n",
       " 'collate.scanning.blocks': CollationProcess (collate.scanning.blocks),\n",
       " 'batcher.scanning_to_qc': BatchingProcess (batcher.scanning_to_qc),\n",
       " 'scanning_to_qc': DeliveryProcess (scanning_to_qc),\n",
       " 'qc': Process (qc),\n",
       " 'assign_histopath': Process (assign_histopath),\n",
       " 'report': Process (report)}"
      ]
     },
     "execution_count": 4,
     "metadata": {},
     "output_type": "execute_result"
    }
   ],
   "source": [
    "model.processes"
   ]
  },
  {
   "cell_type": "markdown",
   "metadata": {},
   "source": [
    "### Input types"
   ]
  },
  {
   "cell_type": "code",
   "execution_count": 5,
   "metadata": {},
   "outputs": [
    {
     "data": {
      "text/plain": [
       "{'arrive_reception': 'Specimen',\n",
       " 'booking_in': 'Specimen',\n",
       " 'cutup_start': 'Specimen',\n",
       " 'cutup_bms': 'Specimen',\n",
       " 'cutup_pool': 'Specimen',\n",
       " 'cutup_large': 'Specimen',\n",
       " 'processing_start': 'Specimen',\n",
       " 'decalc_bone_station': 'Batch[Block]',\n",
       " 'decalc_oven': 'Block',\n",
       " 'processing_assign_queue': 'Block',\n",
       " 'processing_urgents': 'Batch[Block]',\n",
       " 'processing_smalls': 'Batch[Block]',\n",
       " 'processing_larges': 'Batch[Block]',\n",
       " 'processing_megas': 'Batch[Block]',\n",
       " 'embed_and_trim': 'Block',\n",
       " 'post_processing': 'Specimen',\n",
       " 'microtomy': 'Specimen',\n",
       " 'staining_start': 'Specimen',\n",
       " 'staining_regular': 'Batch[Slide]',\n",
       " 'staining_megas': 'Batch[Slide]',\n",
       " 'post_staining': 'Specimen',\n",
       " 'labelling': 'Specimen',\n",
       " 'scanning_start': 'Specimen',\n",
       " 'scanning_regular': 'Batch[Slide]',\n",
       " 'scanning_megas': 'Batch[Slide]',\n",
       " 'post_scanning': 'Specimen',\n",
       " 'qc': 'Specimen',\n",
       " 'assign_histopath': 'Specimen',\n",
       " 'report': 'Specimen'}"
      ]
     },
     "execution_count": 5,
     "metadata": {},
     "output_type": "execute_result"
    }
   ],
   "source": [
    "{\n",
    "    k: str(v.in_type).removeprefix(\"<class '\").removesuffix(\"'>\")\n",
    "    .replace('histopath_bim_des.specimens.','')\n",
    "    for k, v in model.processes.items() if isinstance(v, Process)\n",
    "}"
   ]
  },
  {
   "cell_type": "markdown",
   "metadata": {},
   "source": [
    "### Model execution and KPIs"
   ]
  },
  {
   "cell_type": "code",
   "execution_count": 6,
   "metadata": {},
   "outputs": [],
   "source": [
    "model.run()"
   ]
  },
  {
   "cell_type": "code",
   "execution_count": 7,
   "metadata": {},
   "outputs": [
    {
     "data": {
      "text/plain": [
       "{'total': 3024,\n",
       " 'in_reception': 15,\n",
       " 'in_cut_up': 51,\n",
       " 'in_processing': 1073,\n",
       " 'in_microtomy': 0,\n",
       " 'in_staining': 622,\n",
       " 'in_labelling': 24,\n",
       " 'in_scanning': 297,\n",
       " 'in_qc': 143,\n",
       " 'in_reporting': 189}"
      ]
     },
     "execution_count": 7,
     "metadata": {},
     "output_type": "execute_result"
    }
   ],
   "source": [
    "{k: v() for k,v in model.wips.__dict__.items()}"
   ]
  },
  {
   "cell_type": "code",
   "execution_count": 8,
   "metadata": {},
   "outputs": [
    {
     "data": {
      "text/plain": [
       "{'booking_in_staff': 15,\n",
       " 'bms': 45,\n",
       " 'cut_up_assistant': 26,\n",
       " 'processing_room_staff': 11,\n",
       " 'microtomy_staff': 25,\n",
       " 'staining_staff': 40,\n",
       " 'scanning_staff': 172,\n",
       " 'qc_staff': 532,\n",
       " 'histopathologist': 189,\n",
       " 'bone_station': 0,\n",
       " 'processing_machine': 6,\n",
       " 'staining_machine': 38,\n",
       " 'coverslip_machine': 0,\n",
       " 'scanning_machine_regular': 0,\n",
       " 'scanning_machine_megas': 169}"
      ]
     },
     "execution_count": 8,
     "metadata": {},
     "output_type": "execute_result"
    }
   ],
   "source": [
    "{k: v.requesters().length() for k,v in model.resources.__dict__.items()}"
   ]
  },
  {
   "cell_type": "code",
   "execution_count": 9,
   "metadata": {},
   "outputs": [],
   "source": [
    "tat_dict = {k:v['report_end']-v['reception_start'] for k,v in model.specimen_data.items() if 'report_end' in v}"
   ]
  },
  {
   "cell_type": "code",
   "execution_count": 10,
   "metadata": {},
   "outputs": [
    {
     "name": "stdout",
     "output_type": "stream",
     "text": [
      "47.412639944936075 234.574761938836 243.59276827765328 623.9005412065112\n"
     ]
    }
   ],
   "source": [
    "import numpy as np\n",
    "\n",
    "ar = np.array(list(tat_dict.values()))\n",
    "print(np.min(ar), np.median(ar), np.mean(ar), np.max(ar))"
   ]
  },
  {
   "cell_type": "code",
   "execution_count": 11,
   "metadata": {},
   "outputs": [
    {
     "name": "stdout",
     "output_type": "stream",
     "text": [
      "0.12870362509550895\n",
      "0.5212666610068767\n",
      "0.7481110450802275\n",
      "0.9998302062993463\n"
     ]
    }
   ],
   "source": [
    "print(np.mean(ar < model.days(7)))\n",
    "print(np.mean(ar < model.days(10)))\n",
    "print(np.mean(ar < model.days(12)))\n",
    "print(np.mean(ar < model.days(24)))"
   ]
  },
  {
   "cell_type": "code",
   "execution_count": null,
   "metadata": {},
   "outputs": [],
   "source": []
  }
 ],
 "metadata": {
  "kernelspec": {
   "display_name": "histopath-bim-des",
   "language": "python",
   "name": "python3"
  },
  "language_info": {
   "codemirror_mode": {
    "name": "ipython",
    "version": 3
   },
   "file_extension": ".py",
   "mimetype": "text/x-python",
   "name": "python",
   "nbconvert_exporter": "python",
   "pygments_lexer": "ipython3",
   "version": "3.12.3"
  }
 },
 "nbformat": 4,
 "nbformat_minor": 2
}
