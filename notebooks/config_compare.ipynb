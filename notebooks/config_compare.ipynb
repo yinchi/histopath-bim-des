{
 "cells": [
  {
   "cell_type": "markdown",
   "metadata": {},
   "source": [
    "# Comparison of scenarios\n",
    "\n",
    "In this notebook, we simulate the histopathology lab under a base scenario and a \"lift-down\"\n",
    "scenario where the lift connecting the two floors of the lab is out of order. For further\n",
    "analysis of the two scenarios, see the two `runner_times_` notebooks.\n",
    "\n",
    "## Load configs"
   ]
  },
  {
   "cell_type": "code",
   "execution_count": 1,
   "metadata": {},
   "outputs": [],
   "source": [
    "import openpyxl as oxl, pandas as pd, numpy as np\n",
    "\n",
    "from histopath_bim_des.config import Config\n",
    "from histopath_bim_des.model import Model"
   ]
  },
  {
   "cell_type": "markdown",
   "metadata": {},
   "source": [
    "**Base config**"
   ]
  },
  {
   "cell_type": "code",
   "execution_count": 2,
   "metadata": {},
   "outputs": [],
   "source": [
    "path = '../assets/config_base.xlsx'\n",
    "wbook = oxl.load_workbook(path, data_only=True)\n",
    "config = Config.from_workbook(wbook, sim_hours=10*168, num_reps=30, runner_speed=1.2)"
   ]
  },
  {
   "cell_type": "markdown",
   "metadata": {},
   "source": [
    "**Lift down**"
   ]
  },
  {
   "cell_type": "code",
   "execution_count": 3,
   "metadata": {},
   "outputs": [],
   "source": [
    "path2 = '../assets/config_lift_down.xlsx'\n",
    "wbook2 = oxl.load_workbook(path2, data_only=True)\n",
    "config2 = Config.from_workbook(wbook2, sim_hours=10*168, num_reps=30, runner_speed=1.2)"
   ]
  },
  {
   "cell_type": "markdown",
   "metadata": {},
   "source": [
    "**Summary of runner times**"
   ]
  },
  {
   "cell_type": "code",
   "execution_count": 4,
   "metadata": {},
   "outputs": [
    {
     "data": {
      "text/html": [
       "<div>\n",
       "<style scoped>\n",
       "    .dataframe tbody tr th:only-of-type {\n",
       "        vertical-align: middle;\n",
       "    }\n",
       "\n",
       "    .dataframe tbody tr th {\n",
       "        vertical-align: top;\n",
       "    }\n",
       "\n",
       "    .dataframe thead th {\n",
       "        text-align: right;\n",
       "    }\n",
       "</style>\n",
       "<table border=\"1\" class=\"dataframe\">\n",
       "  <thead>\n",
       "    <tr style=\"text-align: right;\">\n",
       "      <th></th>\n",
       "      <th>Base</th>\n",
       "      <th>LiftDown</th>\n",
       "    </tr>\n",
       "  </thead>\n",
       "  <tbody>\n",
       "    <tr>\n",
       "      <th>reception_cutup</th>\n",
       "      <td>8.452306</td>\n",
       "      <td>8.452306</td>\n",
       "    </tr>\n",
       "    <tr>\n",
       "      <th>cutup_processing</th>\n",
       "      <td>6.968697</td>\n",
       "      <td>6.968697</td>\n",
       "    </tr>\n",
       "    <tr>\n",
       "      <th>processing_microtomy</th>\n",
       "      <td>28.089256</td>\n",
       "      <td>28.089256</td>\n",
       "    </tr>\n",
       "    <tr>\n",
       "      <th>microtomy_staining</th>\n",
       "      <td>3.678511</td>\n",
       "      <td>3.678511</td>\n",
       "    </tr>\n",
       "    <tr>\n",
       "      <th>staining_labelling</th>\n",
       "      <td>3.678511</td>\n",
       "      <td>3.678511</td>\n",
       "    </tr>\n",
       "    <tr>\n",
       "      <th>labelling_scanning</th>\n",
       "      <td>86.898479</td>\n",
       "      <td>155.862945</td>\n",
       "    </tr>\n",
       "    <tr>\n",
       "      <th>scanning_qc</th>\n",
       "      <td>86.898479</td>\n",
       "      <td>155.862945</td>\n",
       "    </tr>\n",
       "    <tr>\n",
       "      <th>extra_loading</th>\n",
       "      <td>15.000000</td>\n",
       "      <td>15.000000</td>\n",
       "    </tr>\n",
       "    <tr>\n",
       "      <th>extra_unloading</th>\n",
       "      <td>15.000000</td>\n",
       "      <td>15.000000</td>\n",
       "    </tr>\n",
       "  </tbody>\n",
       "</table>\n",
       "</div>"
      ],
      "text/plain": [
       "                           Base    LiftDown\n",
       "reception_cutup        8.452306    8.452306\n",
       "cutup_processing       6.968697    6.968697\n",
       "processing_microtomy  28.089256   28.089256\n",
       "microtomy_staining     3.678511    3.678511\n",
       "staining_labelling     3.678511    3.678511\n",
       "labelling_scanning    86.898479  155.862945\n",
       "scanning_qc           86.898479  155.862945\n",
       "extra_loading         15.000000   15.000000\n",
       "extra_unloading       15.000000   15.000000"
      ]
     },
     "execution_count": 4,
     "metadata": {},
     "output_type": "execute_result"
    }
   ],
   "source": [
    "df = pd.DataFrame([{x[0]: x[1] for x in config.runner_times}, {x[0]: x[1] for x in config2.runner_times}]).T\n",
    "df.columns = ['Base', 'LiftDown']\n",
    "df"
   ]
  },
  {
   "cell_type": "markdown",
   "metadata": {},
   "source": [
    "## Simulation of Base config"
   ]
  },
  {
   "cell_type": "code",
   "execution_count": 5,
   "metadata": {},
   "outputs": [],
   "source": [
    "lab_tats = []\n",
    "specimen_datas = []\n",
    "\n",
    "for _ in range(config.num_reps):\n",
    "    model_base = Model(config)\n",
    "    model_base.run()\n",
    "    lab_tat_new = [v['qc_end']-v['reception_start']\n",
    "                   for v in model_base.specimen_data.values() if 'qc_end' in v]\n",
    "    specimen_datas.append(model_base.specimen_data)\n",
    "    lab_tats.append(lab_tat_new)"
   ]
  },
  {
   "cell_type": "code",
   "execution_count": 6,
   "metadata": {},
   "outputs": [],
   "source": [
    "lab_tat = np.concatenate(lab_tats)"
   ]
  },
  {
   "cell_type": "code",
   "execution_count": 7,
   "metadata": {},
   "outputs": [
    {
     "data": {
      "text/plain": [
       "array([0.00000000e+00, 0.00000000e+00, 4.44205889e-04, 6.93278477e-03,\n",
       "       4.11710113e-02, 6.84473682e-02, 1.07719928e-01, 2.66269702e-01,\n",
       "       4.90474692e-01, 6.39463463e-01, 7.23891667e-01, 7.91011705e-01,\n",
       "       8.50815567e-01, 8.96240908e-01, 9.35331026e-01, 9.62221347e-01,\n",
       "       9.74624739e-01, 9.83014413e-01, 9.89547941e-01, 9.93902745e-01,\n",
       "       9.97078289e-01, 9.99077215e-01, 9.99751456e-01, 9.99891593e-01,\n",
       "       9.99941830e-01, 9.99978847e-01, 9.99994712e-01, 9.99997356e-01])"
      ]
     },
     "execution_count": 7,
     "metadata": {},
     "output_type": "execute_result"
    }
   ],
   "source": [
    "lab_tat = lab_tat/24.\n",
    "np.array([np.mean(lab_tat < n) for n in range(28)])"
   ]
  },
  {
   "cell_type": "markdown",
   "metadata": {},
   "source": [
    "## Simulation of lift-down config"
   ]
  },
  {
   "cell_type": "code",
   "execution_count": 8,
   "metadata": {},
   "outputs": [],
   "source": [
    "model_lift_down = Model(config2)"
   ]
  },
  {
   "cell_type": "code",
   "execution_count": 9,
   "metadata": {},
   "outputs": [],
   "source": [
    "lab_tats2 = []\n",
    "specimen_datas2 = []\n",
    "\n",
    "for _ in range(config2.num_reps):\n",
    "    model_lift_down = Model(config2)\n",
    "    model_lift_down.run()\n",
    "    lab_tat2_new = [v['qc_end']-v['reception_start']\n",
    "                   for v in model_lift_down.specimen_data.values() if 'qc_end' in v]\n",
    "    lab_tats2.append(lab_tat2_new)\n",
    "    specimen_datas2.append(model_lift_down.specimen_data)\n"
   ]
  },
  {
   "cell_type": "code",
   "execution_count": 10,
   "metadata": {},
   "outputs": [
    {
     "data": {
      "text/plain": [
       "array([0.00000000e+00, 0.00000000e+00, 2.72461004e-04, 6.48729651e-03,\n",
       "       3.48641101e-02, 5.90858933e-02, 9.52850623e-02, 2.16960698e-01,\n",
       "       3.92847899e-01, 5.35906273e-01, 6.27646618e-01, 7.07237927e-01,\n",
       "       7.74026292e-01, 8.30324910e-01, 8.82542061e-01, 9.27628908e-01,\n",
       "       9.55237382e-01, 9.71991009e-01, 9.84450651e-01, 9.91123220e-01,\n",
       "       9.95975751e-01, 9.98713984e-01, 9.99629453e-01, 9.99806553e-01,\n",
       "       9.99871943e-01, 9.99926436e-01, 9.99961855e-01, 9.99994551e-01])"
      ]
     },
     "execution_count": 10,
     "metadata": {},
     "output_type": "execute_result"
    }
   ],
   "source": [
    "lab_tat2 = np.concatenate(lab_tats2)/24.\n",
    "np.array([np.mean(lab_tat2 < n) for n in range(28)])"
   ]
  },
  {
   "cell_type": "markdown",
   "metadata": {},
   "source": [
    "## Save data"
   ]
  },
  {
   "cell_type": "code",
   "execution_count": 26,
   "metadata": {},
   "outputs": [],
   "source": [
    "import json\n",
    "\n",
    "with open('outputs/config_compare_base.tats.json', 'w', encoding='utf-8') as file:\n",
    "    json.dump(lab_tats, file)\n",
    "\n",
    "with open('outputs/config_compare_lift_down.tats.json', 'w', encoding='utf-8') as file:\n",
    "    json.dump(lab_tats2, file)\n",
    "\n",
    "with open('outputs/config_compare_base.specimens.json', 'w', encoding='utf-8') as file:\n",
    "    json.dump(specimen_datas, file)\n",
    "\n",
    "with open('outputs/config_compare_lift_down.specimens.json', 'w', encoding='utf-8') as file:\n",
    "    json.dump(specimen_datas2, file)"
   ]
  },
  {
   "cell_type": "markdown",
   "metadata": {},
   "source": [
    "## Comparison"
   ]
  },
  {
   "cell_type": "code",
   "execution_count": 33,
   "metadata": {},
   "outputs": [],
   "source": [
    "import numpy as np\n",
    "import json\n",
    "import pandas as pd\n",
    "from scipy import stats\n",
    "from matplotlib import pyplot as plt\n",
    "\n",
    "# For skipping simulation\n",
    "lab_tats = json.load(\n",
    "    open('outputs/config_compare_base.tats.json', 'r', encoding='utf-8'))\n",
    "lab_tats2 = json.load(\n",
    "    open('outputs/config_compare_lift_down.tats.json', 'r', encoding='utf-8'))\n",
    "\n",
    "lab_tat = np.concatenate(lab_tats)/24.\n",
    "lab_tat2 = np.concatenate(lab_tats2)/24."
   ]
  },
  {
   "cell_type": "code",
   "execution_count": 34,
   "metadata": {},
   "outputs": [],
   "source": [
    "mat1 = np.array([[np.mean(np.array(lab_tats[i])/24. < n) for n in [7,10,14,21]] for i in range(30)])\n",
    "mat2 = np.array([[np.mean(np.array(lab_tats2[i])/24. < n) for n in [7,10,14,21]] for i in range(30)])"
   ]
  },
  {
   "cell_type": "code",
   "execution_count": 35,
   "metadata": {},
   "outputs": [
    {
     "data": {
      "text/plain": [
       "array([0.27767681, 0.31861004, 0.32030816, 0.17365079, 0.37452107,\n",
       "       0.18592682, 0.24519193, 0.21921569, 0.30903316, 0.25232653,\n",
       "       0.3133584 , 0.35086336, 0.20480936, 0.21739479, 0.45862828,\n",
       "       0.23167435, 0.20903909, 0.30490272, 0.16639584, 0.38222706,\n",
       "       0.29450363, 0.21780006, 0.24786325, 0.16263112, 0.17369405,\n",
       "       0.30917345, 0.35299589, 0.34414331, 0.2057995 , 0.13292876])"
      ]
     },
     "execution_count": 35,
     "metadata": {},
     "output_type": "execute_result"
    }
   ],
   "source": [
    "mat1[:,0]"
   ]
  },
  {
   "cell_type": "markdown",
   "metadata": {},
   "source": [
    "**What is the proportion of specimens completed (reception to QC) within 7, 10, 14, or 21 days?**"
   ]
  },
  {
   "cell_type": "code",
   "execution_count": 36,
   "metadata": {},
   "outputs": [
    {
     "data": {
      "text/plain": [
       "array([0.26524291, 0.72278014, 0.93498745, 0.99906045])"
      ]
     },
     "execution_count": 36,
     "metadata": {},
     "output_type": "execute_result"
    }
   ],
   "source": [
    "# Base scenario\n",
    "\n",
    "means1 = np.mean(mat1, axis=0)\n",
    "means1"
   ]
  },
  {
   "cell_type": "code",
   "execution_count": 37,
   "metadata": {},
   "outputs": [
    {
     "data": {
      "text/plain": [
       "array([0.21616197, 0.62647169, 0.88206174, 0.99870332])"
      ]
     },
     "execution_count": 37,
     "metadata": {},
     "output_type": "execute_result"
    }
   ],
   "source": [
    "# Lift-down scenario\n",
    "\n",
    "means2 = np.mean(mat2, axis=0)\n",
    "means2"
   ]
  },
  {
   "cell_type": "code",
   "execution_count": 38,
   "metadata": {},
   "outputs": [
    {
     "data": {
      "text/plain": [
       "array([0.02927592, 0.02518444, 0.00809137, 0.00042047])"
      ]
     },
     "execution_count": 38,
     "metadata": {},
     "output_type": "execute_result"
    }
   ],
   "source": [
    "# Confidence interval half-width, base scenario\n",
    "\n",
    "ci1 = [\n",
    "    stats.t.interval(0.95, loc=np.mean(x:=mat1[:,col]), scale=stats.sem(x), df=len(x))\n",
    "    for col in range(4)\n",
    "]\n",
    "yerr1 = np.array([v[1] for v in ci1])-means1\n",
    "yerr1"
   ]
  },
  {
   "cell_type": "code",
   "execution_count": 39,
   "metadata": {},
   "outputs": [
    {
     "data": {
      "text/plain": [
       "array([0.02550822, 0.02835163, 0.01067065, 0.00056114])"
      ]
     },
     "execution_count": 39,
     "metadata": {},
     "output_type": "execute_result"
    }
   ],
   "source": [
    "# Confidence interval half-width, lift-down scenario\n",
    "\n",
    "ci2 = [\n",
    "    stats.t.interval(0.95, loc=np.mean(x:=mat2[:,col]), scale=stats.sem(x), df=len(x))\n",
    "    for col in range(4)\n",
    "]\n",
    "yerr2 = np.array([v[1] for v in ci2])-means2\n",
    "yerr2"
   ]
  },
  {
   "cell_type": "markdown",
   "metadata": {},
   "source": [
    "**Plot the lab TAT distribution for the two scenarios:**"
   ]
  },
  {
   "cell_type": "code",
   "execution_count": 44,
   "metadata": {},
   "outputs": [
    {
     "data": {
      "text/plain": [
       "<Axes: xlabel='Elapsed time [days]', ylabel='Proportion of specimens completed'>"
      ]
     },
     "execution_count": 44,
     "metadata": {},
     "output_type": "execute_result"
    },
    {
     "data": {
      "image/png": "[encoded data removed]",
      "text/plain": [
       "<Figure size 500x1000 with 2 Axes>"
      ]
     },
     "metadata": {},
     "output_type": "display_data"
    }
   ],
   "source": [
    "fig = plt.figure(figsize=(5,10))\n",
    "ax1, ax2 = fig.subplots(2,1)\n",
    "\n",
    "ax1.ecdf(lab_tat)\n",
    "ax1.ecdf(lab_tat2)\n",
    "ax1.legend(labels=['Base config', 'Lift down'])\n",
    "ax1.set_xlabel('Elapsed time [days]')\n",
    "ax1.set_title('Lab TAT, cumulative distribution')\n",
    "ax1.set_ylabel('Proportion of specimens completed')\n",
    "ax1.set_xlim(0,28)\n",
    "\n",
    "y_df = pd.DataFrame(\n",
    "    np.array([means1, means2]).T,\n",
    "    index=[7,10,14,21],\n",
    "    columns=['Base scenario', 'Lift down']\n",
    ")\n",
    "yerr_df = pd.DataFrame(\n",
    "    np.array([yerr1, yerr2]).T,\n",
    "    index=[7,10,14,21],\n",
    "    columns=['Base scenario', 'Lift down']\n",
    ")\n",
    "y_df.plot(ax=ax2, kind='bar',yerr=yerr_df, capsize=5,\n",
    "          xlabel='Elapsed time [days]', ylabel='Proportion of specimens completed')"
   ]
  },
  {
   "cell_type": "markdown",
   "metadata": {},
   "source": [
    "**Mean lab TATs**"
   ]
  },
  {
   "cell_type": "code",
   "execution_count": 41,
   "metadata": {},
   "outputs": [
    {
     "data": {
      "text/plain": [
       "8.728869201205312"
      ]
     },
     "execution_count": 41,
     "metadata": {},
     "output_type": "execute_result"
    }
   ],
   "source": [
    "np.mean(lab_tat)"
   ]
  },
  {
   "cell_type": "code",
   "execution_count": 42,
   "metadata": {},
   "outputs": [
    {
     "data": {
      "text/plain": [
       "9.456790067921988"
      ]
     },
     "execution_count": 42,
     "metadata": {},
     "output_type": "execute_result"
    }
   ],
   "source": [
    "np.mean(lab_tat2)"
   ]
  },
  {
   "cell_type": "markdown",
   "metadata": {},
   "source": [
    "**Compress files:**\n",
    "\n",
    "```bash\n",
    "tar -cvzf config_compare.tar.gz config_compare_*.json\n",
    "tar -cvjf config_compare.tar.bz2 config_compare_*.json\n",
    "```"
   ]
  },
  {
   "cell_type": "code",
   "execution_count": 43,
   "metadata": {},
   "outputs": [
    {
     "name": "stdout",
     "output_type": "stream",
     "text": [
      "outputs/config_compare_base.specimens.json\n",
      "outputs/config_compare_base.tats.json\n",
      "outputs/config_compare_lift_down.specimens.json\n",
      "outputs/config_compare_lift_down.tats.json\n"
     ]
    },
    {
     "data": {
      "text/plain": [
       "0"
      ]
     },
     "execution_count": 43,
     "metadata": {},
     "output_type": "execute_result"
    }
   ],
   "source": [
    "from os import system\n",
    "system(\"tar -cvjf outputs/config_compare.tar.bz2 outputs/config_compare_*.json\")"
   ]
  },
  {
   "cell_type": "code",
   "execution_count": null,
   "metadata": {},
   "outputs": [],
   "source": []
  }
 ],
 "metadata": {
  "kernelspec": {
   "display_name": "histopath-bim-des",
   "language": "python",
   "name": "python3"
  },
  "language_info": {
   "codemirror_mode": {
    "name": "ipython",
    "version": 3
   },
   "file_extension": ".py",
   "mimetype": "text/x-python",
   "name": "python",
   "nbconvert_exporter": "python",
   "pygments_lexer": "ipython3",
   "version": "3.12.3"
  }
 },
 "nbformat": 4,
 "nbformat_minor": 2
}
