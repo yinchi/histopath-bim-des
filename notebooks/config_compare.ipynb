{
 "cells": [
  {
   "cell_type": "code",
   "execution_count": null,
   "metadata": {},
   "outputs": [],
   "source": [
    "import openpyxl as oxl, pandas as pd, numpy as np\n",
    "from scipy import stats\n",
    "from matplotlib import pyplot as plt\n",
    "\n",
    "from histopath_bim_des.config import Config\n",
    "from histopath_bim_des.model import Model"
   ]
  },
  {
   "cell_type": "markdown",
   "metadata": {},
   "source": [
    "**Base config**"
   ]
  },
  {
   "cell_type": "code",
   "execution_count": null,
   "metadata": {},
   "outputs": [],
   "source": [
    "path = '../assets/config_base.xlsx'\n",
    "wbook = oxl.load_workbook(path, data_only=True)\n",
    "config = Config.from_workbook(wbook, sim_hours=10*168, num_reps=30, runner_speed=1.2)"
   ]
  },
  {
   "cell_type": "markdown",
   "metadata": {},
   "source": [
    "**Lift down**"
   ]
  },
  {
   "cell_type": "code",
   "execution_count": null,
   "metadata": {},
   "outputs": [],
   "source": [
    "path2 = '../assets/config_lift_down.xlsx'\n",
    "wbook2 = oxl.load_workbook(path2, data_only=True)\n",
    "config2 = Config.from_workbook(wbook2, sim_hours=10*168, num_reps=30, runner_speed=1.2)"
   ]
  },
  {
   "cell_type": "markdown",
   "metadata": {},
   "source": [
    "**Summary of runner times**"
   ]
  },
  {
   "cell_type": "code",
   "execution_count": null,
   "metadata": {},
   "outputs": [],
   "source": [
    "df = pd.DataFrame([{x[0]: x[1] for x in config.runner_times}, {x[0]: x[1] for x in config2.runner_times}]).T\n",
    "df.columns = ['Base', 'LiftDown']\n",
    "df"
   ]
  },
  {
   "cell_type": "markdown",
   "metadata": {},
   "source": [
    "# Simulation of Base config"
   ]
  },
  {
   "cell_type": "code",
   "execution_count": null,
   "metadata": {},
   "outputs": [],
   "source": [
    "lab_tats = []\n",
    "specimen_datas = []\n",
    "\n",
    "for _ in range(config.num_reps):\n",
    "    model_base = Model(config)\n",
    "    model_base.run()\n",
    "    lab_tat_new = [v['qc_end']-v['reception_start']\n",
    "                   for v in model_base.specimen_data.values() if 'qc_end' in v]\n",
    "    specimen_datas.append(model_base.specimen_data)\n",
    "    lab_tats.append(lab_tat_new)"
   ]
  },
  {
   "cell_type": "code",
   "execution_count": null,
   "metadata": {},
   "outputs": [],
   "source": [
    "lab_tat = np.concatenate(lab_tats)"
   ]
  },
  {
   "cell_type": "code",
   "execution_count": null,
   "metadata": {},
   "outputs": [],
   "source": [
    "lab_tat = lab_tat/24.\n",
    "np.array([np.mean(lab_tat < n) for n in range(28)])"
   ]
  },
  {
   "cell_type": "markdown",
   "metadata": {},
   "source": [
    "# Simulation of lift-down config"
   ]
  },
  {
   "cell_type": "code",
   "execution_count": null,
   "metadata": {},
   "outputs": [],
   "source": [
    "model_lift_down = Model(config2)"
   ]
  },
  {
   "cell_type": "code",
   "execution_count": null,
   "metadata": {},
   "outputs": [],
   "source": [
    "lab_tats2 = []\n",
    "specimen_datas2 = []\n",
    "\n",
    "for _ in range(config2.num_reps):\n",
    "    model_lift_down = Model(config2)\n",
    "    model_lift_down.run()\n",
    "    lab_tat2_new = [v['qc_end']-v['reception_start']\n",
    "                   for v in model_lift_down.specimen_data.values() if 'qc_end' in v]\n",
    "    lab_tats2.append(lab_tat2_new)\n",
    "    specimen_datas2.append(model_lift_down.specimen_data)\n"
   ]
  },
  {
   "cell_type": "code",
   "execution_count": null,
   "metadata": {},
   "outputs": [],
   "source": [
    "lab_tat2 = np.concatenate(lab_tats2)/24.\n",
    "np.array([np.mean(lab_tat2 < n) for n in range(28)])"
   ]
  },
  {
   "cell_type": "markdown",
   "metadata": {},
   "source": [
    "# Comparison"
   ]
  },
  {
   "cell_type": "code",
   "execution_count": null,
   "metadata": {},
   "outputs": [],
   "source": [
    "mat1 = np.array([[np.mean(np.array(lab_tats[i])/24. < n) for n in [7,10,14,21]] for i in range(30)])\n",
    "mat2 = np.array([[np.mean(np.array(lab_tats2[i])/24. < n) for n in [7,10,14,21]] for i in range(30)])"
   ]
  },
  {
   "cell_type": "code",
   "execution_count": null,
   "metadata": {},
   "outputs": [],
   "source": [
    "mat1[:,0]"
   ]
  },
  {
   "cell_type": "code",
   "execution_count": null,
   "metadata": {},
   "outputs": [],
   "source": [
    "means1 = np.mean(mat1, axis=0)\n",
    "means1"
   ]
  },
  {
   "cell_type": "code",
   "execution_count": null,
   "metadata": {},
   "outputs": [],
   "source": [
    "means2 = np.mean(mat2, axis=0)\n",
    "means2"
   ]
  },
  {
   "cell_type": "code",
   "execution_count": null,
   "metadata": {},
   "outputs": [],
   "source": [
    "ci1 = [\n",
    "    stats.t.interval(0.95, loc=np.mean(x:=mat1[:,col]), scale=stats.sem(x), df=len(x))\n",
    "    for col in range(4)\n",
    "]\n",
    "yerr1 = np.array([v[1] for v in ci1])-means1\n",
    "yerr1"
   ]
  },
  {
   "cell_type": "code",
   "execution_count": null,
   "metadata": {},
   "outputs": [],
   "source": [
    "ci2 = [\n",
    "    stats.t.interval(0.95, loc=np.mean(x:=mat2[:,col]), scale=stats.sem(x), df=len(x))\n",
    "    for col in range(4)\n",
    "]\n",
    "yerr2 = np.array([v[1] for v in ci2])-means2\n",
    "yerr2"
   ]
  },
  {
   "cell_type": "code",
   "execution_count": null,
   "metadata": {},
   "outputs": [],
   "source": [
    "fig = plt.figure(figsize=(5,10))\n",
    "ax1, ax2 = fig.subplots(2,1)\n",
    "\n",
    "ax1.ecdf(lab_tat)\n",
    "ax1.ecdf(lab_tat2)\n",
    "ax1.legend(labels=['Base config', 'Lift down'])\n",
    "ax1.set_xlabel('Days')\n",
    "ax1.set_title('Lab TAT, cumulative distribution')\n",
    "ax1.set_ylabel('Proportion')\n",
    "ax1.set_xlim(0,28)\n",
    "\n",
    "y_df = pd.DataFrame(\n",
    "    np.array([means1, means2]).T,\n",
    "    index=[7,10,14,21],\n",
    "    columns=['Base scenario', 'Lift down']\n",
    ")\n",
    "yerr_df = pd.DataFrame(\n",
    "    np.array([yerr1, yerr2]).T,\n",
    "    index=[7,10,14,21],\n",
    "    columns=['Base scenario', 'Lift down']\n",
    ")\n",
    "y_df.plot(ax=ax2, kind='bar',yerr=yerr_df, capsize=5,\n",
    "          xlabel='N [days]', ylabel='Proportion',\n",
    "          title='Proportion of specimens completed in N days')"
   ]
  },
  {
   "cell_type": "code",
   "execution_count": null,
   "metadata": {},
   "outputs": [],
   "source": [
    "np.mean(lab_tat)"
   ]
  },
  {
   "cell_type": "code",
   "execution_count": null,
   "metadata": {},
   "outputs": [],
   "source": [
    "np.mean(lab_tat2)"
   ]
  },
  {
   "cell_type": "code",
   "execution_count": null,
   "metadata": {},
   "outputs": [],
   "source": []
  }
 ],
 "metadata": {
  "kernelspec": {
   "display_name": "histopath-bim-des",
   "language": "python",
   "name": "python3"
  },
  "language_info": {
   "codemirror_mode": {
    "name": "ipython",
    "version": 3
   },
   "file_extension": ".py",
   "mimetype": "text/x-python",
   "name": "python",
   "nbconvert_exporter": "python",
   "pygments_lexer": "ipython3",
   "version": "3.12.3"
  }
 },
 "nbformat": 4,
 "nbformat_minor": 2
}
