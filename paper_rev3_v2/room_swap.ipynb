{
 "cells": [
  {
   "cell_type": "markdown",
   "metadata": {},
   "source": [
    "# Scenario analysis: room swap"
   ]
  },
  {
   "cell_type": "code",
   "execution_count": 1,
   "metadata": {},
   "outputs": [],
   "source": [
    "import openpyxl as oxl\n",
    "from histopath_bim_des.config import Config\n",
    "from histopath_bim_des.model import Model\n",
    "\n",
    "path = 'config_base.xlsx'\n",
    "wbook = oxl.load_workbook(path, data_only=True)\n",
    "config = Config.from_workbook(wbook, sim_hours=10*168, num_reps=30, runner_speed=1.2)"
   ]
  },
  {
   "cell_type": "code",
   "execution_count": 2,
   "metadata": {},
   "outputs": [
    {
     "data": {
      "text/plain": [
       "86.89847882754336"
      ]
     },
     "execution_count": 2,
     "metadata": {},
     "output_type": "execute_result"
    }
   ],
   "source": [
    "config.runner_times.labelling_scanning"
   ]
  },
  {
   "cell_type": "markdown",
   "metadata": {},
   "source": [
    "From `ifc_parsing.ipynb`, we know the runner times for if we move Digital Scanning to `d17` or `d18`:"
   ]
  },
  {
   "cell_type": "code",
   "execution_count": 3,
   "metadata": {},
   "outputs": [],
   "source": [
    "config2 = config.model_copy(deep=True)\n",
    "config3 = config.model_copy(deep=True)\n",
    "config4 = config.model_copy(deep=True)\n",
    "config5 = config.model_copy(deep=True)\n",
    "\n",
    "config2.runner_times.labelling_scanning = 1.839256\n",
    "config2.runner_times.scanning_qc = 1.839256\n",
    "\n",
    "config3.runner_times.labelling_scanning = 23.261845\n",
    "config3.runner_times.scanning_qc = 23.261845\n",
    "\n",
    "config4.runner_times.labelling_scanning = 5.761845\n",
    "config4.runner_times.scanning_qc = 5.761845\n",
    "\n",
    "config5.runner_times.labelling_scanning = 3.922589\n",
    "config5.runner_times.scanning_qc = 3.922589"
   ]
  },
  {
   "cell_type": "code",
   "execution_count": 4,
   "metadata": {},
   "outputs": [
    {
     "data": {
      "text/html": [
       "<div>\n",
       "<style scoped>\n",
       "    .dataframe tbody tr th:only-of-type {\n",
       "        vertical-align: middle;\n",
       "    }\n",
       "\n",
       "    .dataframe tbody tr th {\n",
       "        vertical-align: top;\n",
       "    }\n",
       "\n",
       "    .dataframe thead th {\n",
       "        text-align: right;\n",
       "    }\n",
       "</style>\n",
       "<table border=\"1\" class=\"dataframe\">\n",
       "  <thead>\n",
       "    <tr style=\"text-align: right;\">\n",
       "      <th></th>\n",
       "      <th>d16</th>\n",
       "      <th>d17</th>\n",
       "      <th>d18</th>\n",
       "      <th>d19</th>\n",
       "      <th>d20</th>\n",
       "    </tr>\n",
       "  </thead>\n",
       "  <tbody>\n",
       "    <tr>\n",
       "      <th>reception_cutup</th>\n",
       "      <td>8.452306</td>\n",
       "      <td>8.452306</td>\n",
       "      <td>8.452306</td>\n",
       "      <td>8.452306</td>\n",
       "      <td>8.452306</td>\n",
       "    </tr>\n",
       "    <tr>\n",
       "      <th>cutup_processing</th>\n",
       "      <td>6.968697</td>\n",
       "      <td>6.968697</td>\n",
       "      <td>6.968697</td>\n",
       "      <td>6.968697</td>\n",
       "      <td>6.968697</td>\n",
       "    </tr>\n",
       "    <tr>\n",
       "      <th>processing_microtomy</th>\n",
       "      <td>28.089256</td>\n",
       "      <td>28.089256</td>\n",
       "      <td>28.089256</td>\n",
       "      <td>28.089256</td>\n",
       "      <td>28.089256</td>\n",
       "    </tr>\n",
       "    <tr>\n",
       "      <th>microtomy_staining</th>\n",
       "      <td>3.678511</td>\n",
       "      <td>3.678511</td>\n",
       "      <td>3.678511</td>\n",
       "      <td>3.678511</td>\n",
       "      <td>3.678511</td>\n",
       "    </tr>\n",
       "    <tr>\n",
       "      <th>staining_labelling</th>\n",
       "      <td>3.678511</td>\n",
       "      <td>3.678511</td>\n",
       "      <td>3.678511</td>\n",
       "      <td>3.678511</td>\n",
       "      <td>3.678511</td>\n",
       "    </tr>\n",
       "    <tr>\n",
       "      <th>labelling_scanning</th>\n",
       "      <td>86.898479</td>\n",
       "      <td>1.839256</td>\n",
       "      <td>23.261845</td>\n",
       "      <td>5.761845</td>\n",
       "      <td>3.922589</td>\n",
       "    </tr>\n",
       "    <tr>\n",
       "      <th>scanning_qc</th>\n",
       "      <td>86.898479</td>\n",
       "      <td>1.839256</td>\n",
       "      <td>23.261845</td>\n",
       "      <td>5.761845</td>\n",
       "      <td>3.922589</td>\n",
       "    </tr>\n",
       "    <tr>\n",
       "      <th>extra_loading</th>\n",
       "      <td>15.000000</td>\n",
       "      <td>15.000000</td>\n",
       "      <td>15.000000</td>\n",
       "      <td>15.000000</td>\n",
       "      <td>15.000000</td>\n",
       "    </tr>\n",
       "    <tr>\n",
       "      <th>extra_unloading</th>\n",
       "      <td>15.000000</td>\n",
       "      <td>15.000000</td>\n",
       "      <td>15.000000</td>\n",
       "      <td>15.000000</td>\n",
       "      <td>15.000000</td>\n",
       "    </tr>\n",
       "  </tbody>\n",
       "</table>\n",
       "</div>"
      ],
      "text/plain": [
       "                            d16        d17        d18        d19        d20\n",
       "reception_cutup        8.452306   8.452306   8.452306   8.452306   8.452306\n",
       "cutup_processing       6.968697   6.968697   6.968697   6.968697   6.968697\n",
       "processing_microtomy  28.089256  28.089256  28.089256  28.089256  28.089256\n",
       "microtomy_staining     3.678511   3.678511   3.678511   3.678511   3.678511\n",
       "staining_labelling     3.678511   3.678511   3.678511   3.678511   3.678511\n",
       "labelling_scanning    86.898479   1.839256  23.261845   5.761845   3.922589\n",
       "scanning_qc           86.898479   1.839256  23.261845   5.761845   3.922589\n",
       "extra_loading         15.000000  15.000000  15.000000  15.000000  15.000000\n",
       "extra_unloading       15.000000  15.000000  15.000000  15.000000  15.000000"
      ]
     },
     "execution_count": 4,
     "metadata": {},
     "output_type": "execute_result"
    }
   ],
   "source": [
    "import pandas as pd\n",
    "\n",
    "pd.DataFrame({\n",
    "    'd16': config.runner_times.model_dump(),\n",
    "    'd17': config2.runner_times.model_dump(),\n",
    "    'd18': config3.runner_times.model_dump(),\n",
    "    'd19': config4.runner_times.model_dump(),\n",
    "    'd20': config5.runner_times.model_dump()\n",
    "})"
   ]
  },
  {
   "cell_type": "code",
   "execution_count": 5,
   "metadata": {},
   "outputs": [],
   "source": [
    "lab_tats = []\n",
    "specimen_datas = []\n",
    "\n",
    "for _ in range(config.num_reps):\n",
    "    model_base = Model(config)\n",
    "    model_base.run()\n",
    "    lab_tat_new = [v['qc_end']-v['reception_start']\n",
    "                   for v in model_base.specimen_data.values() if 'qc_end' in v]\n",
    "    specimen_datas.append(model_base.specimen_data)\n",
    "    lab_tats.append(lab_tat_new)\n",
    "\n",
    "lab_tats2 = []\n",
    "specimen_datas2 = []\n",
    "\n",
    "for _ in range(config2.num_reps):\n",
    "    model2 = Model(config2)\n",
    "    model2.run()\n",
    "    lab_tat_new = [v['qc_end']-v['reception_start']\n",
    "                   for v in model2.specimen_data.values() if 'qc_end' in v]\n",
    "    specimen_datas2.append(model2.specimen_data)\n",
    "    lab_tats2.append(lab_tat_new)\n",
    "\n",
    "lab_tats3 = []\n",
    "specimen_datas3 = []\n",
    "\n",
    "for _ in range(config3.num_reps):\n",
    "    model3 = Model(config3)\n",
    "    model3.run()\n",
    "    lab_tat_new = [v['qc_end']-v['reception_start']\n",
    "                   for v in model3.specimen_data.values() if 'qc_end' in v]\n",
    "    specimen_datas3.append(model3.specimen_data)\n",
    "    lab_tats3.append(lab_tat_new)\n",
    "\n",
    "lab_tats4 = []\n",
    "specimen_datas4 = []\n",
    "\n",
    "for _ in range(config4.num_reps):\n",
    "    model4 = Model(config4)\n",
    "    model4.run()\n",
    "    lab_tat_new = [v['qc_end']-v['reception_start']\n",
    "                   for v in model4.specimen_data.values() if 'qc_end' in v]\n",
    "    specimen_datas4.append(model4.specimen_data)\n",
    "    lab_tats4.append(lab_tat_new)\n",
    "\n",
    "lab_tats5 = []\n",
    "specimen_datas5 = []\n",
    "\n",
    "for _ in range(config5.num_reps):\n",
    "    model5 = Model(config5)\n",
    "    model5.run()\n",
    "    lab_tat_new = [v['qc_end']-v['reception_start']\n",
    "                   for v in model5.specimen_data.values() if 'qc_end' in v]\n",
    "    specimen_datas5.append(model5.specimen_data)\n",
    "    lab_tats5.append(lab_tat_new)"
   ]
  },
  {
   "cell_type": "code",
   "execution_count": 6,
   "metadata": {},
   "outputs": [],
   "source": [
    "import numpy as np\n",
    "from matplotlib import pyplot as plt\n",
    "from scipy import stats"
   ]
  },
  {
   "cell_type": "code",
   "execution_count": 7,
   "metadata": {},
   "outputs": [
    {
     "data": {
      "text/plain": [
       "array([0.00000000e+00, 0.00000000e+00, 3.35169287e-04, 6.71130312e-03,\n",
       "       4.01728101e-02, 7.23332269e-02, 1.18206554e-01, 2.81265093e-01,\n",
       "       5.02437235e-01, 6.53561636e-01, 7.40652868e-01, 8.07238073e-01,\n",
       "       8.61171298e-01, 9.02497407e-01, 9.39806763e-01, 9.65057942e-01,\n",
       "       9.76063107e-01, 9.84281352e-01, 9.90327595e-01, 9.94602983e-01,\n",
       "       9.97875502e-01, 9.99268961e-01, 9.99804705e-01, 9.99873322e-01,\n",
       "       9.99907631e-01, 9.99931383e-01, 9.99970970e-01, 9.99986804e-01])"
      ]
     },
     "execution_count": 7,
     "metadata": {},
     "output_type": "execute_result"
    }
   ],
   "source": [
    "lab_tat = np.concatenate(lab_tats)\n",
    "lab_tat = lab_tat/24.\n",
    "np.array([np.mean(lab_tat < n) for n in range(28)])"
   ]
  },
  {
   "cell_type": "code",
   "execution_count": 8,
   "metadata": {},
   "outputs": [],
   "source": [
    "lab_tat2 = np.concatenate(lab_tats2)\n",
    "lab_tat2 = lab_tat2/24.\n",
    "\n",
    "lab_tat3 = np.concatenate(lab_tats3)\n",
    "lab_tat3 = lab_tat3/24.\n",
    "\n",
    "lab_tat4 = np.concatenate(lab_tats4)\n",
    "lab_tat4 = lab_tat4/24.\n",
    "\n",
    "lab_tat5 = np.concatenate(lab_tats5)\n",
    "lab_tat5 = lab_tat5/24."
   ]
  },
  {
   "cell_type": "code",
   "execution_count": 43,
   "metadata": {},
   "outputs": [],
   "source": [
    "mat1 = np.array([[np.mean(np.array(lab_tats[i])/24. < n) for n in [7,10,14]] for i in range(30)])\n",
    "mat2 = np.array([[np.mean(np.array(lab_tats2[i])/24. < n) for n in [7,10,14]] for i in range(30)])\n",
    "mat3 = np.array([[np.mean(np.array(lab_tats3[i])/24. < n) for n in [7,10,14]] for i in range(30)])\n",
    "mat4 = np.array([[np.mean(np.array(lab_tats4[i])/24. < n) for n in [7,10,14]] for i in range(30)])\n",
    "mat5 = np.array([[np.mean(np.array(lab_tats5[i])/24. < n) for n in [7,10,14]] for i in range(30)])\n",
    "\n",
    "# mat2 = mat2 - mat1\n",
    "# mat3 = mat3 - mat1\n",
    "# mat4 = mat4 - mat1\n",
    "# mat5 = mat5 - mat1\n",
    "\n",
    "means1 = np.mean(mat1, axis=0)\n",
    "means2 = np.mean(mat2, axis=0)\n",
    "means3 = np.mean(mat3, axis=0)\n",
    "means4 = np.mean(mat4, axis=0)\n",
    "means5 = np.mean(mat5, axis=0)\n",
    "\n",
    "ci1 = [\n",
    "    stats.t.interval(0.95, loc=np.mean(x:=mat1[:,col]), scale=stats.sem(x), df=len(x))\n",
    "    for col in range(3)\n",
    "]\n",
    "yerr1 = np.array([v[1] for v in ci1])-means1\n",
    "\n",
    "ci2 = [\n",
    "    stats.t.interval(0.95, loc=np.mean(x:=mat2[:,col]), scale=stats.sem(x), df=len(x))\n",
    "    for col in range(3)\n",
    "]\n",
    "yerr2 = np.array([v[1] for v in ci2])-means2\n",
    "\n",
    "ci3 = [\n",
    "    stats.t.interval(0.95, loc=np.mean(x:=mat3[:,col]), scale=stats.sem(x), df=len(x))\n",
    "    for col in range(3)\n",
    "]\n",
    "yerr3 = np.array([v[1] for v in ci3])-means3\n",
    "\n",
    "ci4 = [\n",
    "    stats.t.interval(0.95, loc=np.mean(x:=mat4[:,col]), scale=stats.sem(x), df=len(x))\n",
    "    for col in range(3)\n",
    "]\n",
    "yerr4 = np.array([v[1] for v in ci4])-means4\n",
    "\n",
    "ci5 = [\n",
    "    stats.t.interval(0.95, loc=np.mean(x:=mat5[:,col]), scale=stats.sem(x), df=len(x))\n",
    "    for col in range(3)\n",
    "]\n",
    "yerr5 = np.array([v[1] for v in ci5])-means5"
   ]
  },
  {
   "cell_type": "code",
   "execution_count": 44,
   "metadata": {},
   "outputs": [
    {
     "data": {
      "text/plain": [
       "[array([0.28062577, 0.73976332, 0.93956155]),\n",
       " array([0.31309323, 0.78796501, 0.95720552]),\n",
       " array([0.33516091, 0.79388036, 0.95697312]),\n",
       " array([0.29990456, 0.77754026, 0.95489729]),\n",
       " array([0.31843857, 0.79323669, 0.95896265])]"
      ]
     },
     "execution_count": 44,
     "metadata": {},
     "output_type": "execute_result"
    }
   ],
   "source": [
    "[means1, means2, means3, means4, means5]"
   ]
  },
  {
   "cell_type": "code",
   "execution_count": 46,
   "metadata": {},
   "outputs": [
    {
     "data": {
      "text/plain": [
       "[array([0.02319587, 0.02346695, 0.00689501]),\n",
       " array([0.03566573, 0.02315175, 0.00520157]),\n",
       " array([0.0417254 , 0.02321528, 0.00440195]),\n",
       " array([0.0416377 , 0.0316869 , 0.00673362]),\n",
       " array([0.03444911, 0.02188988, 0.00403118])]"
      ]
     },
     "execution_count": 46,
     "metadata": {},
     "output_type": "execute_result"
    }
   ],
   "source": [
    "[yerr1, yerr2, yerr3, yerr4, yerr5]"
   ]
  },
  {
   "cell_type": "code",
   "execution_count": 59,
   "metadata": {},
   "outputs": [],
   "source": [
    "doors = [\n",
    "    'd16 Digital pathology (base case)',\n",
    "    'd17 Block & slide',\n",
    "    'd18 Ventilated stores',\n",
    "    'd19 Main lab section leaders',\n",
    "    'd20 Filing room'\n",
    "]\n",
    "\n",
    "y_df = pd.DataFrame(\n",
    "    np.array([means1, means2, means3, means4, means5]).T,\n",
    "    index=[7,10,14],\n",
    "    columns=doors\n",
    ")\n",
    "\n",
    "yerr_df = pd.DataFrame(\n",
    "    np.array([yerr1, yerr2, yerr3, yerr4, yerr5]).T,\n",
    "    index=[7,10,14],\n",
    "    columns=doors\n",
    ")"
   ]
  },
  {
   "cell_type": "code",
   "execution_count": 60,
   "metadata": {},
   "outputs": [
    {
     "data": {
      "text/plain": [
       "<Axes: xlabel='Elapsed time [days]', ylabel='Proportion of specimens completed'>"
      ]
     },
     "execution_count": 60,
     "metadata": {},
     "output_type": "execute_result"
    },
    {
     "data": {
      "image/png": "[encoded data removed]",
      "text/plain": [
       "<Figure size 500x800 with 1 Axes>"
      ]
     },
     "metadata": {},
     "output_type": "display_data"
    }
   ],
   "source": [
    "plt.style.use('tableau-colorblind10')\n",
    "fig = plt.figure(figsize=(5,8))\n",
    "ax = fig.subplots()\n",
    "\n",
    "y_df.plot(ax=ax, kind='bar',yerr=yerr_df, capsize=5, width=0.7,\n",
    "          xlabel='Elapsed time [days]', ylabel='Proportion of specimens completed')"
   ]
  },
  {
   "cell_type": "code",
   "execution_count": 62,
   "metadata": {},
   "outputs": [],
   "source": [
    "y_df.to_feather('room_swap.means.feather')\n",
    "yerr_df.to_feather('room_swap.err.feather')"
   ]
  },
  {
   "cell_type": "code",
   "execution_count": null,
   "metadata": {},
   "outputs": [],
   "source": []
  }
 ],
 "metadata": {
  "kernelspec": {
   "display_name": ".venv",
   "language": "python",
   "name": "python3"
  },
  "language_info": {
   "codemirror_mode": {
    "name": "ipython",
    "version": 3
   },
   "file_extension": ".py",
   "mimetype": "text/x-python",
   "name": "python",
   "nbconvert_exporter": "python",
   "pygments_lexer": "ipython3",
   "version": "3.12.3"
  }
 },
 "nbformat": 4,
 "nbformat_minor": 2
}
